{
  "nbformat": 4,
  "nbformat_minor": 0,
  "metadata": {
    "colab": {
      "provenance": [],
      "authorship_tag": "ABX9TyN3rkqZG4DF9dsEym8FuFmn",
      "include_colab_link": true
    },
    "kernelspec": {
      "name": "python3",
      "display_name": "Python 3"
    },
    "language_info": {
      "name": "python"
    }
  },
  "cells": [
    {
      "cell_type": "markdown",
      "metadata": {
        "id": "view-in-github",
        "colab_type": "text"
      },
      "source": [
        "<a href=\"https://colab.research.google.com/github/meliksahb/CV-with-Tensorflow/blob/main/firstTraining.ipynb\" target=\"_parent\"><img src=\"https://colab.research.google.com/assets/colab-badge.svg\" alt=\"Open In Colab\"/></a>"
      ]
    },
    {
      "cell_type": "code",
      "execution_count": 1,
      "metadata": {
        "id": "Be1F3ZaFTxUW"
      },
      "outputs": [],
      "source": [
        "import tensorflow as tf"
      ]
    },
    {
      "cell_type": "code",
      "source": [
        "tensor_zero_d = tf.constant(4)\n",
        "print(tensor_zero_d) # this will output <tf.Tensor: shape=(), dtype=int32, numpy=4>"
      ],
      "metadata": {
        "colab": {
          "base_uri": "https://localhost:8080/"
        },
        "id": "Qaf8vDiOUCom",
        "outputId": "9620aa36-83a2-47ad-d2f4-71025d385d6d"
      },
      "execution_count": 2,
      "outputs": [
        {
          "output_type": "stream",
          "name": "stdout",
          "text": [
            "tf.Tensor(4, shape=(), dtype=int32)\n"
          ]
        }
      ]
    },
    {
      "cell_type": "code",
      "source": [
        "tensor_one_d = tf.constant([2,0,-3, 8, 90.])\n",
        "print(tensor_one_d)"
      ],
      "metadata": {
        "colab": {
          "base_uri": "https://localhost:8080/"
        },
        "id": "MZ7H-yqKULaG",
        "outputId": "23960737-fb1b-43e1-a0c3-33adbeadd21a"
      },
      "execution_count": 3,
      "outputs": [
        {
          "output_type": "stream",
          "name": "stdout",
          "text": [
            "tf.Tensor([ 2.  0. -3.  8. 90.], shape=(5,), dtype=float32)\n"
          ]
        }
      ]
    },
    {
      "cell_type": "code",
      "source": [
        "tensor_two_d = tf.constant([\n",
        "    [1,2,0],\n",
        "    [3,5,-1],\n",
        "    [2,5,6],\n",
        "    [2,3,8],\n",
        "])\n",
        "print(tensor_two_d)"
      ],
      "metadata": {
        "colab": {
          "base_uri": "https://localhost:8080/"
        },
        "id": "fPcE3WW8USGU",
        "outputId": "a6b554ff-aec2-4b83-c224-45a0e6422d63"
      },
      "execution_count": 4,
      "outputs": [
        {
          "output_type": "stream",
          "name": "stdout",
          "text": [
            "tf.Tensor(\n",
            "[[ 1  2  0]\n",
            " [ 3  5 -1]\n",
            " [ 2  5  6]\n",
            " [ 2  3  8]], shape=(4, 3), dtype=int32)\n"
          ]
        }
      ]
    },
    {
      "cell_type": "code",
      "source": [
        "tensor_three_d = tf.constant([\n",
        "    [[1,2,0],\n",
        "    [3,5,-1]],\n",
        "    [[10,2,0],\n",
        "    [1,0,2]],\n",
        "    [[5,8,0],\n",
        "     [2,7,0]],\n",
        "    [[2,1,9],\n",
        "     [4,-3,32]]\n",
        "])\n",
        "print(tensor_three_d)"
      ],
      "metadata": {
        "colab": {
          "base_uri": "https://localhost:8080/"
        },
        "id": "medggYUsUrez",
        "outputId": "999e3467-5ec4-466d-aaeb-a15c6658eef3"
      },
      "execution_count": 5,
      "outputs": [
        {
          "output_type": "stream",
          "name": "stdout",
          "text": [
            "tf.Tensor(\n",
            "[[[ 1  2  0]\n",
            "  [ 3  5 -1]]\n",
            "\n",
            " [[10  2  0]\n",
            "  [ 1  0  2]]\n",
            "\n",
            " [[ 5  8  0]\n",
            "  [ 2  7  0]]\n",
            "\n",
            " [[ 2  1  9]\n",
            "  [ 4 -3 32]]], shape=(4, 2, 3), dtype=int32)\n"
          ]
        }
      ]
    },
    {
      "cell_type": "code",
      "source": [
        "print(tensor_three_d.ndim)  # To check dimension"
      ],
      "metadata": {
        "colab": {
          "base_uri": "https://localhost:8080/"
        },
        "id": "koQfVlVUU4SK",
        "outputId": "f38d9b74-57d2-4a84-c789-5ee07f4130d2"
      },
      "execution_count": 6,
      "outputs": [
        {
          "output_type": "stream",
          "name": "stdout",
          "text": [
            "3\n"
          ]
        }
      ]
    },
    {
      "cell_type": "code",
      "source": [
        "tensor_four_d = tf.constant([\n",
        "   [[[1,2,0],\n",
        "    [3,5,-1]],\n",
        "    [[10,2,0],\n",
        "    [1,0,2]],\n",
        "    [[5,8,0],\n",
        "     [2,7,0]],\n",
        "    [[2,1,9],\n",
        "     [4,-3,32]]],\n",
        "   [[[13,24,0],\n",
        "    [33,54,-1]],\n",
        "    [[10,2,5],\n",
        "    [1,0,23]],\n",
        "    [[52,8,0],\n",
        "     [42,73,0]],\n",
        "    [[24,1,93],\n",
        "     [46,-33,32]]]\n",
        "])\n",
        "print(tensor_four_d)"
      ],
      "metadata": {
        "colab": {
          "base_uri": "https://localhost:8080/"
        },
        "id": "4H-b3vq-Vgjd",
        "outputId": "d6e6812a-805e-42c2-aa75-63cef3a1f9aa"
      },
      "execution_count": 7,
      "outputs": [
        {
          "output_type": "stream",
          "name": "stdout",
          "text": [
            "tf.Tensor(\n",
            "[[[[  1   2   0]\n",
            "   [  3   5  -1]]\n",
            "\n",
            "  [[ 10   2   0]\n",
            "   [  1   0   2]]\n",
            "\n",
            "  [[  5   8   0]\n",
            "   [  2   7   0]]\n",
            "\n",
            "  [[  2   1   9]\n",
            "   [  4  -3  32]]]\n",
            "\n",
            "\n",
            " [[[ 13  24   0]\n",
            "   [ 33  54  -1]]\n",
            "\n",
            "  [[ 10   2   5]\n",
            "   [  1   0  23]]\n",
            "\n",
            "  [[ 52   8   0]\n",
            "   [ 42  73   0]]\n",
            "\n",
            "  [[ 24   1  93]\n",
            "   [ 46 -33  32]]]], shape=(2, 4, 2, 3), dtype=int32)\n"
          ]
        }
      ]
    },
    {
      "cell_type": "code",
      "source": [
        "print(tensor_four_d.ndim)"
      ],
      "metadata": {
        "colab": {
          "base_uri": "https://localhost:8080/"
        },
        "id": "jHZ7vCHBV-Lw",
        "outputId": "7044644f-ce2c-419a-85b9-cc4eede84247"
      },
      "execution_count": 8,
      "outputs": [
        {
          "output_type": "stream",
          "name": "stdout",
          "text": [
            "4\n"
          ]
        }
      ]
    },
    {
      "cell_type": "code",
      "source": [
        "tensor_one_d2 = tf.constant([2,0,-3, 8, 90.], dtype=tf.float32)\n",
        "casted_tensor_one_d2 = tf.cast(tensor_one_d2, dtype=tf.int16)  # changes the type\n",
        "casted_2_tensor_one_d2 = tf.cast(tensor_one_d2, dtype=tf.bool)  # all the values different from 0 True, else False\n",
        "print(tensor_one_d2)\n",
        "print(casted_tensor_one_d2)\n",
        "print(casted_2_tensor_one_d2)"
      ],
      "metadata": {
        "colab": {
          "base_uri": "https://localhost:8080/"
        },
        "id": "jtlHAPLHWFWA",
        "outputId": "587f121b-24ce-467d-b45e-7a3b3bff2cd2"
      },
      "execution_count": 9,
      "outputs": [
        {
          "output_type": "stream",
          "name": "stdout",
          "text": [
            "tf.Tensor([ 2.  0. -3.  8. 90.], shape=(5,), dtype=float32)\n",
            "tf.Tensor([ 2  0 -3  8 90], shape=(5,), dtype=int16)\n",
            "tf.Tensor([ True False  True  True  True], shape=(5,), dtype=bool)\n"
          ]
        }
      ]
    },
    {
      "cell_type": "code",
      "source": [
        "tensor_bool = tf.constant([True, False, True])\n",
        "print(tensor_bool)"
      ],
      "metadata": {
        "colab": {
          "base_uri": "https://localhost:8080/"
        },
        "id": "4J4AokZxXY1k",
        "outputId": "f2cbc0a9-49b6-45e5-e6c4-9ba80ce2dc44"
      },
      "execution_count": 10,
      "outputs": [
        {
          "output_type": "stream",
          "name": "stdout",
          "text": [
            "tf.Tensor([ True False  True], shape=(3,), dtype=bool)\n"
          ]
        }
      ]
    },
    {
      "cell_type": "code",
      "source": [
        "tensor_string = tf.constant([\"Hello\", \"World\", \"A\"])\n",
        "print(tensor_string)"
      ],
      "metadata": {
        "colab": {
          "base_uri": "https://localhost:8080/"
        },
        "id": "ViiLGYcBYA07",
        "outputId": "3fb4b36f-fd12-462d-a4c4-ecea2f95a306"
      },
      "execution_count": 11,
      "outputs": [
        {
          "output_type": "stream",
          "name": "stdout",
          "text": [
            "tf.Tensor([b'Hello' b'World' b'A'], shape=(3,), dtype=string)\n"
          ]
        }
      ]
    },
    {
      "cell_type": "code",
      "source": [
        "import numpy as np"
      ],
      "metadata": {
        "id": "8g4YuatRYKDO"
      },
      "execution_count": 12,
      "outputs": []
    },
    {
      "cell_type": "code",
      "source": [
        "np_array = np.array([1,2,4])\n",
        "print(np_array)"
      ],
      "metadata": {
        "colab": {
          "base_uri": "https://localhost:8080/"
        },
        "id": "0EUdHbTkYYwe",
        "outputId": "2a02a354-c741-45e4-99e7-4b007d26c968"
      },
      "execution_count": 13,
      "outputs": [
        {
          "output_type": "stream",
          "name": "stdout",
          "text": [
            "[1 2 4]\n"
          ]
        }
      ]
    },
    {
      "cell_type": "code",
      "source": [
        "converted_tensor = tf.convert_to_tensor(np_array)\n",
        "print(converted_tensor)"
      ],
      "metadata": {
        "colab": {
          "base_uri": "https://localhost:8080/"
        },
        "id": "yAKEO9MMYbm2",
        "outputId": "cfb055f9-f4b4-402f-ee8e-b6bcb97d1216"
      },
      "execution_count": 14,
      "outputs": [
        {
          "output_type": "stream",
          "name": "stdout",
          "text": [
            "tf.Tensor([1 2 4], shape=(3,), dtype=int64)\n"
          ]
        }
      ]
    },
    {
      "cell_type": "code",
      "source": [
        "eye_tensor = tf.eye(\n",
        "    num_rows=5,\n",
        "    num_columns=3,\n",
        "    batch_shape=[2,],\n",
        "    dtype=tf.dtypes.float32,\n",
        "    name=None\n",
        ")\n",
        "print(eye_tensor)\n",
        "print(3*eye_tensor)"
      ],
      "metadata": {
        "colab": {
          "base_uri": "https://localhost:8080/"
        },
        "id": "S2EiV5D1Yjyc",
        "outputId": "09deb986-1625-406d-85e7-dca0a56b4da6"
      },
      "execution_count": 15,
      "outputs": [
        {
          "output_type": "stream",
          "name": "stdout",
          "text": [
            "tf.Tensor(\n",
            "[[[1. 0. 0.]\n",
            "  [0. 1. 0.]\n",
            "  [0. 0. 1.]\n",
            "  [0. 0. 0.]\n",
            "  [0. 0. 0.]]\n",
            "\n",
            " [[1. 0. 0.]\n",
            "  [0. 1. 0.]\n",
            "  [0. 0. 1.]\n",
            "  [0. 0. 0.]\n",
            "  [0. 0. 0.]]], shape=(2, 5, 3), dtype=float32)\n",
            "tf.Tensor(\n",
            "[[[3. 0. 0.]\n",
            "  [0. 3. 0.]\n",
            "  [0. 0. 3.]\n",
            "  [0. 0. 0.]\n",
            "  [0. 0. 0.]]\n",
            "\n",
            " [[3. 0. 0.]\n",
            "  [0. 3. 0.]\n",
            "  [0. 0. 3.]\n",
            "  [0. 0. 0.]\n",
            "  [0. 0. 0.]]], shape=(2, 5, 3), dtype=float32)\n"
          ]
        }
      ]
    },
    {
      "cell_type": "code",
      "source": [
        "eye_tensor2 = tf.eye(\n",
        "    num_rows=5,\n",
        "    num_columns=None,\n",
        "    batch_shape=[2,4],\n",
        "    dtype=tf.dtypes.float32,\n",
        "    name=None\n",
        ")\n",
        "print(eye_tensor2)"
      ],
      "metadata": {
        "colab": {
          "base_uri": "https://localhost:8080/"
        },
        "id": "efYqsLyHY8mN",
        "outputId": "f8b2d3a4-aa4f-4a28-ea86-5c0ed6490d4f"
      },
      "execution_count": 16,
      "outputs": [
        {
          "output_type": "stream",
          "name": "stdout",
          "text": [
            "tf.Tensor(\n",
            "[[[[1. 0. 0. 0. 0.]\n",
            "   [0. 1. 0. 0. 0.]\n",
            "   [0. 0. 1. 0. 0.]\n",
            "   [0. 0. 0. 1. 0.]\n",
            "   [0. 0. 0. 0. 1.]]\n",
            "\n",
            "  [[1. 0. 0. 0. 0.]\n",
            "   [0. 1. 0. 0. 0.]\n",
            "   [0. 0. 1. 0. 0.]\n",
            "   [0. 0. 0. 1. 0.]\n",
            "   [0. 0. 0. 0. 1.]]\n",
            "\n",
            "  [[1. 0. 0. 0. 0.]\n",
            "   [0. 1. 0. 0. 0.]\n",
            "   [0. 0. 1. 0. 0.]\n",
            "   [0. 0. 0. 1. 0.]\n",
            "   [0. 0. 0. 0. 1.]]\n",
            "\n",
            "  [[1. 0. 0. 0. 0.]\n",
            "   [0. 1. 0. 0. 0.]\n",
            "   [0. 0. 1. 0. 0.]\n",
            "   [0. 0. 0. 1. 0.]\n",
            "   [0. 0. 0. 0. 1.]]]\n",
            "\n",
            "\n",
            " [[[1. 0. 0. 0. 0.]\n",
            "   [0. 1. 0. 0. 0.]\n",
            "   [0. 0. 1. 0. 0.]\n",
            "   [0. 0. 0. 1. 0.]\n",
            "   [0. 0. 0. 0. 1.]]\n",
            "\n",
            "  [[1. 0. 0. 0. 0.]\n",
            "   [0. 1. 0. 0. 0.]\n",
            "   [0. 0. 1. 0. 0.]\n",
            "   [0. 0. 0. 1. 0.]\n",
            "   [0. 0. 0. 0. 1.]]\n",
            "\n",
            "  [[1. 0. 0. 0. 0.]\n",
            "   [0. 1. 0. 0. 0.]\n",
            "   [0. 0. 1. 0. 0.]\n",
            "   [0. 0. 0. 1. 0.]\n",
            "   [0. 0. 0. 0. 1.]]\n",
            "\n",
            "  [[1. 0. 0. 0. 0.]\n",
            "   [0. 1. 0. 0. 0.]\n",
            "   [0. 0. 1. 0. 0.]\n",
            "   [0. 0. 0. 1. 0.]\n",
            "   [0. 0. 0. 0. 1.]]]], shape=(2, 4, 5, 5), dtype=float32)\n"
          ]
        }
      ]
    },
    {
      "cell_type": "code",
      "source": [
        "fill_tensor = tf.fill(\n",
        "    [3,4,5], # 3D 4x5 tensor with values of 9\n",
        "    9,\n",
        "    name=None\n",
        ")\n",
        "print(fill_tensor)\n",
        "print(fill_tensor.ndim)\n",
        "fill_tensor2 = tf.fill(\n",
        "    [1,2,5,1], # 1 4D 2x5x1 tensor with values of 9\n",
        "    9,\n",
        "    name=None\n",
        ")\n",
        "print(fill_tensor2)\n",
        "print(fill_tensor2.ndim)"
      ],
      "metadata": {
        "colab": {
          "base_uri": "https://localhost:8080/"
        },
        "id": "MTUAGWoOZ4_9",
        "outputId": "d0547cc0-4d5c-4b84-ac8d-b07d84bfd828"
      },
      "execution_count": 35,
      "outputs": [
        {
          "output_type": "stream",
          "name": "stdout",
          "text": [
            "tf.Tensor(\n",
            "[[[9 9 9 9 9]\n",
            "  [9 9 9 9 9]\n",
            "  [9 9 9 9 9]\n",
            "  [9 9 9 9 9]]\n",
            "\n",
            " [[9 9 9 9 9]\n",
            "  [9 9 9 9 9]\n",
            "  [9 9 9 9 9]\n",
            "  [9 9 9 9 9]]\n",
            "\n",
            " [[9 9 9 9 9]\n",
            "  [9 9 9 9 9]\n",
            "  [9 9 9 9 9]\n",
            "  [9 9 9 9 9]]], shape=(3, 4, 5), dtype=int32)\n",
            "3\n",
            "tf.Tensor(\n",
            "[[[[9]\n",
            "   [9]\n",
            "   [9]\n",
            "   [9]\n",
            "   [9]]\n",
            "\n",
            "  [[9]\n",
            "   [9]\n",
            "   [9]\n",
            "   [9]\n",
            "   [9]]]], shape=(1, 2, 5, 1), dtype=int32)\n",
            "4\n"
          ]
        }
      ]
    },
    {
      "cell_type": "code",
      "source": [
        "ones_tensor = tf.ones(\n",
        "    [2,5,3],\n",
        "    dtype=tf.dtypes.float32,\n",
        "    name=None\n",
        ")\n",
        "print(ones_tensor)\n",
        "print(ones_tensor.ndim)\n",
        "ones_tensor2 = tf.ones(  # creates a tensor of all ones that has the same shape as the input\n",
        "    [4,2,2],\n",
        "    dtype=tf.dtypes.float32,\n",
        "    name=None\n",
        ")\n",
        "print(ones_tensor2)\n",
        "print(ones_tensor2.ndim)"
      ],
      "metadata": {
        "colab": {
          "base_uri": "https://localhost:8080/"
        },
        "id": "L7LfgHUvaEBN",
        "outputId": "62f442c9-d025-4f89-963d-df714403b04b"
      },
      "execution_count": 36,
      "outputs": [
        {
          "output_type": "stream",
          "name": "stdout",
          "text": [
            "tf.Tensor(\n",
            "[[[1. 1. 1.]\n",
            "  [1. 1. 1.]\n",
            "  [1. 1. 1.]\n",
            "  [1. 1. 1.]\n",
            "  [1. 1. 1.]]\n",
            "\n",
            " [[1. 1. 1.]\n",
            "  [1. 1. 1.]\n",
            "  [1. 1. 1.]\n",
            "  [1. 1. 1.]\n",
            "  [1. 1. 1.]]], shape=(2, 5, 3), dtype=float32)\n",
            "3\n",
            "tf.Tensor(\n",
            "[[[1. 1.]\n",
            "  [1. 1.]]\n",
            "\n",
            " [[1. 1.]\n",
            "  [1. 1.]]\n",
            "\n",
            " [[1. 1.]\n",
            "  [1. 1.]]\n",
            "\n",
            " [[1. 1.]\n",
            "  [1. 1.]]], shape=(4, 2, 2), dtype=float32)\n",
            "3\n"
          ]
        }
      ]
    },
    {
      "cell_type": "code",
      "source": [
        "ones_like_tensor = tf.ones_like(  # creates a tensor of all ones that has the same shape as the input\n",
        "    fill_tensor,\n",
        "    dtype=None,\n",
        "    name=None\n",
        ")\n",
        "print(ones_like_tensor)"
      ],
      "metadata": {
        "colab": {
          "base_uri": "https://localhost:8080/"
        },
        "id": "I1ANsdTEaURo",
        "outputId": "c880d6f4-dbef-4eab-961d-58fd80af7567"
      },
      "execution_count": 37,
      "outputs": [
        {
          "output_type": "stream",
          "name": "stdout",
          "text": [
            "tf.Tensor(\n",
            "[[[1 1 1 1 1]\n",
            "  [1 1 1 1 1]\n",
            "  [1 1 1 1 1]\n",
            "  [1 1 1 1 1]]\n",
            "\n",
            " [[1 1 1 1 1]\n",
            "  [1 1 1 1 1]\n",
            "  [1 1 1 1 1]\n",
            "  [1 1 1 1 1]]\n",
            "\n",
            " [[1 1 1 1 1]\n",
            "  [1 1 1 1 1]\n",
            "  [1 1 1 1 1]\n",
            "  [1 1 1 1 1]]], shape=(3, 4, 5), dtype=int32)\n"
          ]
        }
      ]
    },
    {
      "cell_type": "code",
      "source": [
        "zeros_tensor = tf.zeros(\n",
        "    [2,5,3],\n",
        "    dtype=tf.dtypes.float32,\n",
        "    name=None\n",
        ")\n",
        "print(zeros_tensor)"
      ],
      "metadata": {
        "colab": {
          "base_uri": "https://localhost:8080/"
        },
        "id": "2oR4gBTOahXi",
        "outputId": "1f1d8626-f04e-4c4b-9e2d-10e0b0cc226d"
      },
      "execution_count": 38,
      "outputs": [
        {
          "output_type": "stream",
          "name": "stdout",
          "text": [
            "tf.Tensor(\n",
            "[[[0. 0. 0.]\n",
            "  [0. 0. 0.]\n",
            "  [0. 0. 0.]\n",
            "  [0. 0. 0.]\n",
            "  [0. 0. 0.]]\n",
            "\n",
            " [[0. 0. 0.]\n",
            "  [0. 0. 0.]\n",
            "  [0. 0. 0.]\n",
            "  [0. 0. 0.]\n",
            "  [0. 0. 0.]]], shape=(2, 5, 3), dtype=float32)\n"
          ]
        }
      ]
    },
    {
      "cell_type": "code",
      "source": [
        "shape_tensor = tf.shape(fill_tensor,)  # returns a tensor containing the shape of the input tensor\n",
        "print(shape_tensor)"
      ],
      "metadata": {
        "colab": {
          "base_uri": "https://localhost:8080/"
        },
        "id": "PZKj9g9XbHQI",
        "outputId": "78ff926b-cf78-431a-8865-2a730be72482"
      },
      "execution_count": 39,
      "outputs": [
        {
          "output_type": "stream",
          "name": "stdout",
          "text": [
            "tf.Tensor([3 4 5], shape=(3,), dtype=int32)\n"
          ]
        }
      ]
    },
    {
      "cell_type": "code",
      "source": [
        "rank_tensor = tf.rank(fill_tensor)  # returns the rank of the input tensor\n",
        "print(rank_tensor)"
      ],
      "metadata": {
        "colab": {
          "base_uri": "https://localhost:8080/"
        },
        "id": "xaS5z-RkbuqN",
        "outputId": "1b96422e-648b-4846-801b-2315d1941ff4"
      },
      "execution_count": 40,
      "outputs": [
        {
          "output_type": "stream",
          "name": "stdout",
          "text": [
            "tf.Tensor(3, shape=(), dtype=int32)\n"
          ]
        }
      ]
    },
    {
      "cell_type": "code",
      "source": [
        "size_tensor = tf.size(fill_tensor, out_type=tf.float32)  # returns the size of the input tensor (3x4x5)\n",
        "print(size_tensor)"
      ],
      "metadata": {
        "colab": {
          "base_uri": "https://localhost:8080/"
        },
        "id": "CSmL1ZCmbZCC",
        "outputId": "de3aa88c-f5ad-4a59-cdf7-16c667a41453"
      },
      "execution_count": 41,
      "outputs": [
        {
          "output_type": "stream",
          "name": "stdout",
          "text": [
            "tf.Tensor(60.0, shape=(), dtype=float32)\n"
          ]
        }
      ]
    },
    {
      "cell_type": "code",
      "source": [
        "random_tensor = tf.random.normal(\n",
        "    [3,2],\n",
        "    mean=100.0,\n",
        "    stddev=1.0,\n",
        "    dtype=tf.dtypes.float32,\n",
        "    seed=None,\n",
        "    name=None\n",
        ")\n",
        "print(random_tensor)"
      ],
      "metadata": {
        "colab": {
          "base_uri": "https://localhost:8080/"
        },
        "id": "VA3p-Sidb8Cg",
        "outputId": "c3ccdd25-1935-4526-a0a3-5031e742d254"
      },
      "execution_count": 42,
      "outputs": [
        {
          "output_type": "stream",
          "name": "stdout",
          "text": [
            "tf.Tensor(\n",
            "[[ 98.844986 101.60261 ]\n",
            " [ 99.47346   98.45896 ]\n",
            " [101.12713   98.50207 ]], shape=(3, 2), dtype=float32)\n"
          ]
        }
      ]
    },
    {
      "cell_type": "code",
      "source": [
        "uniform_random_tensor = tf.random.uniform(\n",
        "    [3,2],\n",
        "    minval=0,\n",
        "    maxval=100,  # default 1\n",
        "    dtype=tf.dtypes.float32,\n",
        "    seed=None,  # combination with tf.random.set_seed\n",
        "    # create a reproducible sequence of tensors across multiple calls\n",
        "    name=None\n",
        ")\n",
        "print(uniform_random_tensor)"
      ],
      "metadata": {
        "id": "-kQhxuh0ciMy",
        "outputId": "e3d462b0-8940-4275-ad34-1b0eb0a707fd",
        "colab": {
          "base_uri": "https://localhost:8080/"
        }
      },
      "execution_count": 43,
      "outputs": [
        {
          "output_type": "stream",
          "name": "stdout",
          "text": [
            "tf.Tensor(\n",
            "[[12.133598  4.810643]\n",
            " [58.858894 58.441544]\n",
            " [42.054047 88.82253 ]], shape=(3, 2), dtype=float32)\n"
          ]
        }
      ]
    },
    {
      "cell_type": "code",
      "source": [
        "tf.random.set_seed(5)\n",
        "print(tf.random.uniform(shape=[3,], maxval=5, dtype=tf.int32, seed=10))\n",
        "print(tf.random.uniform(shape=[3,], maxval=5, dtype=tf.int32, seed=10))\n",
        "print(tf.random.uniform(shape=[3,], maxval=5, dtype=tf.int32, seed=10))\n",
        "print(tf.random.uniform(shape=[3,], maxval=5, dtype=tf.int32, seed=10))"
      ],
      "metadata": {
        "id": "iDTi4CxXqdk8",
        "outputId": "9e6f3b0e-b8de-4ace-8396-1d2af5d65f9e",
        "colab": {
          "base_uri": "https://localhost:8080/"
        }
      },
      "execution_count": 44,
      "outputs": [
        {
          "output_type": "stream",
          "name": "stdout",
          "text": [
            "tf.Tensor([4 3 1], shape=(3,), dtype=int32)\n",
            "tf.Tensor([4 3 2], shape=(3,), dtype=int32)\n",
            "tf.Tensor([1 1 1], shape=(3,), dtype=int32)\n",
            "tf.Tensor([1 3 3], shape=(3,), dtype=int32)\n"
          ]
        }
      ]
    },
    {
      "cell_type": "code",
      "source": [
        "tf.random.set_seed(5)\n",
        "print(tf.random.uniform(shape=[3,], maxval=5, dtype=tf.int32, seed=100))\n",
        "print(tf.random.uniform(shape=[3,], maxval=5, dtype=tf.int32, seed=10))\n",
        "print(tf.random.uniform(shape=[3,], maxval=5, dtype=tf.int32, seed=10))\n",
        "print(tf.random.uniform(shape=[3,], maxval=5, dtype=tf.int32, seed=10))"
      ],
      "metadata": {
        "id": "-YeWOKFutoC3",
        "outputId": "f9c782f2-233e-4838-91ce-3dbcb75dd1cb",
        "colab": {
          "base_uri": "https://localhost:8080/"
        }
      },
      "execution_count": 47,
      "outputs": [
        {
          "output_type": "stream",
          "name": "stdout",
          "text": [
            "tf.Tensor([0 0 3], shape=(3,), dtype=int32)\n",
            "tf.Tensor([4 3 1], shape=(3,), dtype=int32)\n",
            "tf.Tensor([4 3 2], shape=(3,), dtype=int32)\n",
            "tf.Tensor([1 1 1], shape=(3,), dtype=int32)\n"
          ]
        }
      ]
    },
    {
      "cell_type": "markdown",
      "source": [
        "seed argument produces a deterministic sequence of tensors across multiple calls. To repeat that sequence, use tf.random.set_seed:\n",
        "\n",
        "> tf.random.set_seed(5)\n",
        "\n",
        "> tf.random.uniform(shape=[], maxval=3, dtype=tf.int32, seed=10)\n",
        "<tf.Tensor: shape=(), dtype=int32, numpy=2>\n",
        "\n",
        "Without tf.random.set_seed but with a seed argument is specified, small changes to function graphs or previously executed operations will change the returned value. See tf.random.set_seed for details."
      ],
      "metadata": {
        "id": "pEPLxTE7o79r"
      }
    },
    {
      "cell_type": "code",
      "source": [
        "tensor_indexed = tf.constant([2,4,5,6,66,7])\n",
        "print(tensor_indexed)\n",
        "print(tensor_indexed[0:4])"
      ],
      "metadata": {
        "id": "AKkAYBDluMXM",
        "outputId": "2dbbd764-7212-40ae-b917-76366e9ba527",
        "colab": {
          "base_uri": "https://localhost:8080/"
        }
      },
      "execution_count": 48,
      "outputs": [
        {
          "output_type": "stream",
          "name": "stdout",
          "text": [
            "tf.Tensor([ 2  4  5  6 66  7], shape=(6,), dtype=int32)\n",
            "tf.Tensor([2 4 5 6], shape=(4,), dtype=int32)\n"
          ]
        }
      ]
    },
    {
      "cell_type": "code",
      "source": [],
      "metadata": {
        "id": "-ZWXfeF3pvKZ"
      },
      "execution_count": null,
      "outputs": []
    }
  ]
}