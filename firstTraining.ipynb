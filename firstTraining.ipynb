{
  "nbformat": 4,
  "nbformat_minor": 0,
  "metadata": {
    "colab": {
      "provenance": [],
      "authorship_tag": "ABX9TyP1/+Ixee7ASudEik5k2AD1",
      "include_colab_link": true
    },
    "kernelspec": {
      "name": "python3",
      "display_name": "Python 3"
    },
    "language_info": {
      "name": "python"
    }
  },
  "cells": [
    {
      "cell_type": "markdown",
      "metadata": {
        "id": "view-in-github",
        "colab_type": "text"
      },
      "source": [
        "<a href=\"https://colab.research.google.com/github/meliksahb/CV-with-Tensorflow/blob/main/firstTraining.ipynb\" target=\"_parent\"><img src=\"https://colab.research.google.com/assets/colab-badge.svg\" alt=\"Open In Colab\"/></a>"
      ]
    },
    {
      "cell_type": "code",
      "execution_count": 1,
      "metadata": {
        "id": "Be1F3ZaFTxUW"
      },
      "outputs": [],
      "source": [
        "import tensorflow as tf"
      ]
    },
    {
      "cell_type": "code",
      "source": [
        "tensor_zero_d = tf.constant(4)\n",
        "print(tensor_zero_d) # this will output <tf.Tensor: shape=(), dtype=int32, numpy=4>"
      ],
      "metadata": {
        "colab": {
          "base_uri": "https://localhost:8080/"
        },
        "id": "Qaf8vDiOUCom",
        "outputId": "55391da2-0c46-4b15-99a3-8c893e400480"
      },
      "execution_count": 2,
      "outputs": [
        {
          "output_type": "stream",
          "name": "stdout",
          "text": [
            "tf.Tensor(4, shape=(), dtype=int32)\n"
          ]
        }
      ]
    },
    {
      "cell_type": "code",
      "source": [
        "tensor_one_d = tf.constant([2,0,-3, 8, 90.])\n",
        "print(tensor_one_d)"
      ],
      "metadata": {
        "colab": {
          "base_uri": "https://localhost:8080/"
        },
        "id": "MZ7H-yqKULaG",
        "outputId": "2f6e5d7e-9ff1-419e-e43e-b020373c1fa9"
      },
      "execution_count": 3,
      "outputs": [
        {
          "output_type": "stream",
          "name": "stdout",
          "text": [
            "tf.Tensor([ 2.  0. -3.  8. 90.], shape=(5,), dtype=float32)\n"
          ]
        }
      ]
    },
    {
      "cell_type": "code",
      "source": [
        "tensor_two_d = tf.constant([\n",
        "    [1,2,0],\n",
        "    [3,5,-1],\n",
        "    [2,5,6],\n",
        "    [2,3,8],\n",
        "])\n",
        "print(tensor_two_d)"
      ],
      "metadata": {
        "colab": {
          "base_uri": "https://localhost:8080/"
        },
        "id": "fPcE3WW8USGU",
        "outputId": "2782d56d-68f8-4643-831d-c18e8c5eb042"
      },
      "execution_count": 4,
      "outputs": [
        {
          "output_type": "stream",
          "name": "stdout",
          "text": [
            "tf.Tensor(\n",
            "[[ 1  2  0]\n",
            " [ 3  5 -1]\n",
            " [ 2  5  6]\n",
            " [ 2  3  8]], shape=(4, 3), dtype=int32)\n"
          ]
        }
      ]
    },
    {
      "cell_type": "code",
      "source": [
        "tensor_three_d = tf.constant([\n",
        "    [[1,2,0],\n",
        "    [3,5,-1]],\n",
        "    [[10,2,0],\n",
        "    [1,0,2]],\n",
        "    [[5,8,0],\n",
        "     [2,7,0]],\n",
        "    [[2,1,9],\n",
        "     [4,-3,32]]\n",
        "])\n",
        "print(tensor_three_d)"
      ],
      "metadata": {
        "colab": {
          "base_uri": "https://localhost:8080/"
        },
        "id": "medggYUsUrez",
        "outputId": "de65f20f-8937-4e5b-eb23-444ce636c4c5"
      },
      "execution_count": 5,
      "outputs": [
        {
          "output_type": "stream",
          "name": "stdout",
          "text": [
            "tf.Tensor(\n",
            "[[[ 1  2  0]\n",
            "  [ 3  5 -1]]\n",
            "\n",
            " [[10  2  0]\n",
            "  [ 1  0  2]]\n",
            "\n",
            " [[ 5  8  0]\n",
            "  [ 2  7  0]]\n",
            "\n",
            " [[ 2  1  9]\n",
            "  [ 4 -3 32]]], shape=(4, 2, 3), dtype=int32)\n"
          ]
        }
      ]
    },
    {
      "cell_type": "code",
      "source": [
        "print(tensor_three_d.ndim)  # To check dimension"
      ],
      "metadata": {
        "colab": {
          "base_uri": "https://localhost:8080/"
        },
        "id": "koQfVlVUU4SK",
        "outputId": "78ffde0a-7763-40cd-c17c-6f8b61c7f353"
      },
      "execution_count": 6,
      "outputs": [
        {
          "output_type": "stream",
          "name": "stdout",
          "text": [
            "3\n"
          ]
        }
      ]
    },
    {
      "cell_type": "code",
      "source": [
        "tensor_four_d = tf.constant([\n",
        "   [[[1,2,0],\n",
        "    [3,5,-1]],\n",
        "    [[10,2,0],\n",
        "    [1,0,2]],\n",
        "    [[5,8,0],\n",
        "     [2,7,0]],\n",
        "    [[2,1,9],\n",
        "     [4,-3,32]]],\n",
        "   [[[13,24,0],\n",
        "    [33,54,-1]],\n",
        "    [[10,2,5],\n",
        "    [1,0,23]],\n",
        "    [[52,8,0],\n",
        "     [42,73,0]],\n",
        "    [[24,1,93],\n",
        "     [46,-33,32]]]\n",
        "])\n",
        "print(tensor_four_d)"
      ],
      "metadata": {
        "colab": {
          "base_uri": "https://localhost:8080/"
        },
        "id": "4H-b3vq-Vgjd",
        "outputId": "93771c1d-db0c-4e30-ddde-e2b24ea979a7"
      },
      "execution_count": 7,
      "outputs": [
        {
          "output_type": "stream",
          "name": "stdout",
          "text": [
            "tf.Tensor(\n",
            "[[[[  1   2   0]\n",
            "   [  3   5  -1]]\n",
            "\n",
            "  [[ 10   2   0]\n",
            "   [  1   0   2]]\n",
            "\n",
            "  [[  5   8   0]\n",
            "   [  2   7   0]]\n",
            "\n",
            "  [[  2   1   9]\n",
            "   [  4  -3  32]]]\n",
            "\n",
            "\n",
            " [[[ 13  24   0]\n",
            "   [ 33  54  -1]]\n",
            "\n",
            "  [[ 10   2   5]\n",
            "   [  1   0  23]]\n",
            "\n",
            "  [[ 52   8   0]\n",
            "   [ 42  73   0]]\n",
            "\n",
            "  [[ 24   1  93]\n",
            "   [ 46 -33  32]]]], shape=(2, 4, 2, 3), dtype=int32)\n"
          ]
        }
      ]
    },
    {
      "cell_type": "code",
      "source": [
        "print(tensor_four_d.ndim)"
      ],
      "metadata": {
        "colab": {
          "base_uri": "https://localhost:8080/"
        },
        "id": "jHZ7vCHBV-Lw",
        "outputId": "fd946102-e6fc-4c86-c72c-17db8c99c856"
      },
      "execution_count": 8,
      "outputs": [
        {
          "output_type": "stream",
          "name": "stdout",
          "text": [
            "4\n"
          ]
        }
      ]
    },
    {
      "cell_type": "code",
      "source": [
        "tensor_one_d2 = tf.constant([2,0,-3, 8, 90.], dtype=tf.float32)\n",
        "casted_tensor_one_d2 = tf.cast(tensor_one_d2, dtype=tf.int16)  # changes the type\n",
        "casted_2_tensor_one_d2 = tf.cast(tensor_one_d2, dtype=tf.bool)  # all the values different from 0 True, else False\n",
        "print(tensor_one_d2)\n",
        "print(casted_tensor_one_d2)\n",
        "print(casted_2_tensor_one_d2)"
      ],
      "metadata": {
        "colab": {
          "base_uri": "https://localhost:8080/"
        },
        "id": "jtlHAPLHWFWA",
        "outputId": "89512fcb-cc8c-4a90-ebfa-e9d3ebd19b83"
      },
      "execution_count": 9,
      "outputs": [
        {
          "output_type": "stream",
          "name": "stdout",
          "text": [
            "tf.Tensor([ 2.  0. -3.  8. 90.], shape=(5,), dtype=float32)\n",
            "tf.Tensor([ 2  0 -3  8 90], shape=(5,), dtype=int16)\n",
            "tf.Tensor([ True False  True  True  True], shape=(5,), dtype=bool)\n"
          ]
        }
      ]
    },
    {
      "cell_type": "code",
      "source": [
        "tensor_bool = tf.constant([True, False, True])\n",
        "print(tensor_bool)"
      ],
      "metadata": {
        "colab": {
          "base_uri": "https://localhost:8080/"
        },
        "id": "4J4AokZxXY1k",
        "outputId": "edba26ee-2365-40a0-d4e9-b623d48250ea"
      },
      "execution_count": 10,
      "outputs": [
        {
          "output_type": "stream",
          "name": "stdout",
          "text": [
            "tf.Tensor([ True False  True], shape=(3,), dtype=bool)\n"
          ]
        }
      ]
    },
    {
      "cell_type": "code",
      "source": [
        "tensor_string = tf.constant([\"Hello\", \"World\", \"A\"])\n",
        "print(tensor_string)"
      ],
      "metadata": {
        "colab": {
          "base_uri": "https://localhost:8080/"
        },
        "id": "ViiLGYcBYA07",
        "outputId": "7b514057-70d9-478e-e7a7-a61bcebaf115"
      },
      "execution_count": 11,
      "outputs": [
        {
          "output_type": "stream",
          "name": "stdout",
          "text": [
            "tf.Tensor([b'Hello' b'World' b'A'], shape=(3,), dtype=string)\n"
          ]
        }
      ]
    },
    {
      "cell_type": "code",
      "source": [
        "import numpy as np"
      ],
      "metadata": {
        "id": "8g4YuatRYKDO"
      },
      "execution_count": 12,
      "outputs": []
    },
    {
      "cell_type": "code",
      "source": [
        "np_array = np.array([1,2,4])\n",
        "print(np_array)"
      ],
      "metadata": {
        "colab": {
          "base_uri": "https://localhost:8080/"
        },
        "id": "0EUdHbTkYYwe",
        "outputId": "ed1af393-fbde-438a-9696-e613cafe5b2e"
      },
      "execution_count": 13,
      "outputs": [
        {
          "output_type": "stream",
          "name": "stdout",
          "text": [
            "[1 2 4]\n"
          ]
        }
      ]
    },
    {
      "cell_type": "code",
      "source": [
        "converted_tensor = tf.convert_to_tensor(np_array)\n",
        "print(converted_tensor)"
      ],
      "metadata": {
        "colab": {
          "base_uri": "https://localhost:8080/"
        },
        "id": "yAKEO9MMYbm2",
        "outputId": "d869a16e-21b6-46da-aec0-f65d07d882ca"
      },
      "execution_count": 14,
      "outputs": [
        {
          "output_type": "stream",
          "name": "stdout",
          "text": [
            "tf.Tensor([1 2 4], shape=(3,), dtype=int64)\n"
          ]
        }
      ]
    },
    {
      "cell_type": "code",
      "source": [
        "eye_tensor = tf.eye(\n",
        "    num_rows=5,\n",
        "    num_columns=3,\n",
        "    batch_shape=[2,],\n",
        "    dtype=tf.dtypes.float32,\n",
        "    name=None\n",
        ")\n",
        "print(eye_tensor)\n",
        "print(3*eye_tensor)"
      ],
      "metadata": {
        "colab": {
          "base_uri": "https://localhost:8080/"
        },
        "id": "S2EiV5D1Yjyc",
        "outputId": "dde82d4c-0fbf-44f3-9d0c-d6c748c07997"
      },
      "execution_count": 15,
      "outputs": [
        {
          "output_type": "stream",
          "name": "stdout",
          "text": [
            "tf.Tensor(\n",
            "[[[1. 0. 0.]\n",
            "  [0. 1. 0.]\n",
            "  [0. 0. 1.]\n",
            "  [0. 0. 0.]\n",
            "  [0. 0. 0.]]\n",
            "\n",
            " [[1. 0. 0.]\n",
            "  [0. 1. 0.]\n",
            "  [0. 0. 1.]\n",
            "  [0. 0. 0.]\n",
            "  [0. 0. 0.]]], shape=(2, 5, 3), dtype=float32)\n",
            "tf.Tensor(\n",
            "[[[3. 0. 0.]\n",
            "  [0. 3. 0.]\n",
            "  [0. 0. 3.]\n",
            "  [0. 0. 0.]\n",
            "  [0. 0. 0.]]\n",
            "\n",
            " [[3. 0. 0.]\n",
            "  [0. 3. 0.]\n",
            "  [0. 0. 3.]\n",
            "  [0. 0. 0.]\n",
            "  [0. 0. 0.]]], shape=(2, 5, 3), dtype=float32)\n"
          ]
        }
      ]
    },
    {
      "cell_type": "code",
      "source": [
        "eye_tensor2 = tf.eye(\n",
        "    num_rows=5,\n",
        "    num_columns=None,\n",
        "    batch_shape=[2,4],\n",
        "    dtype=tf.dtypes.float32,\n",
        "    name=None\n",
        ")\n",
        "print(eye_tensor2)"
      ],
      "metadata": {
        "colab": {
          "base_uri": "https://localhost:8080/"
        },
        "id": "efYqsLyHY8mN",
        "outputId": "1ec8b3cd-f36a-4046-93d7-5fa695da5150"
      },
      "execution_count": 16,
      "outputs": [
        {
          "output_type": "stream",
          "name": "stdout",
          "text": [
            "tf.Tensor(\n",
            "[[[[1. 0. 0. 0. 0.]\n",
            "   [0. 1. 0. 0. 0.]\n",
            "   [0. 0. 1. 0. 0.]\n",
            "   [0. 0. 0. 1. 0.]\n",
            "   [0. 0. 0. 0. 1.]]\n",
            "\n",
            "  [[1. 0. 0. 0. 0.]\n",
            "   [0. 1. 0. 0. 0.]\n",
            "   [0. 0. 1. 0. 0.]\n",
            "   [0. 0. 0. 1. 0.]\n",
            "   [0. 0. 0. 0. 1.]]\n",
            "\n",
            "  [[1. 0. 0. 0. 0.]\n",
            "   [0. 1. 0. 0. 0.]\n",
            "   [0. 0. 1. 0. 0.]\n",
            "   [0. 0. 0. 1. 0.]\n",
            "   [0. 0. 0. 0. 1.]]\n",
            "\n",
            "  [[1. 0. 0. 0. 0.]\n",
            "   [0. 1. 0. 0. 0.]\n",
            "   [0. 0. 1. 0. 0.]\n",
            "   [0. 0. 0. 1. 0.]\n",
            "   [0. 0. 0. 0. 1.]]]\n",
            "\n",
            "\n",
            " [[[1. 0. 0. 0. 0.]\n",
            "   [0. 1. 0. 0. 0.]\n",
            "   [0. 0. 1. 0. 0.]\n",
            "   [0. 0. 0. 1. 0.]\n",
            "   [0. 0. 0. 0. 1.]]\n",
            "\n",
            "  [[1. 0. 0. 0. 0.]\n",
            "   [0. 1. 0. 0. 0.]\n",
            "   [0. 0. 1. 0. 0.]\n",
            "   [0. 0. 0. 1. 0.]\n",
            "   [0. 0. 0. 0. 1.]]\n",
            "\n",
            "  [[1. 0. 0. 0. 0.]\n",
            "   [0. 1. 0. 0. 0.]\n",
            "   [0. 0. 1. 0. 0.]\n",
            "   [0. 0. 0. 1. 0.]\n",
            "   [0. 0. 0. 0. 1.]]\n",
            "\n",
            "  [[1. 0. 0. 0. 0.]\n",
            "   [0. 1. 0. 0. 0.]\n",
            "   [0. 0. 1. 0. 0.]\n",
            "   [0. 0. 0. 1. 0.]\n",
            "   [0. 0. 0. 0. 1.]]]], shape=(2, 4, 5, 5), dtype=float32)\n"
          ]
        }
      ]
    },
    {
      "cell_type": "code",
      "source": [
        "fill_tensor = tf.fill(\n",
        "    [3,4,5], # 3D 4x5 tensor with values of 9\n",
        "    9,\n",
        "    name=None\n",
        ")\n",
        "print(fill_tensor)\n",
        "print(fill_tensor.ndim)\n",
        "fill_tensor2 = tf.fill(\n",
        "    [1,2,5,1], # 1 4D 2x5x1 tensor with values of 9\n",
        "    9,\n",
        "    name=None\n",
        ")\n",
        "print(fill_tensor2)\n",
        "print(fill_tensor2.ndim)"
      ],
      "metadata": {
        "colab": {
          "base_uri": "https://localhost:8080/"
        },
        "id": "MTUAGWoOZ4_9",
        "outputId": "072fee53-bf83-4248-b393-47e87a7342df"
      },
      "execution_count": 17,
      "outputs": [
        {
          "output_type": "stream",
          "name": "stdout",
          "text": [
            "tf.Tensor(\n",
            "[[[9 9 9 9 9]\n",
            "  [9 9 9 9 9]\n",
            "  [9 9 9 9 9]\n",
            "  [9 9 9 9 9]]\n",
            "\n",
            " [[9 9 9 9 9]\n",
            "  [9 9 9 9 9]\n",
            "  [9 9 9 9 9]\n",
            "  [9 9 9 9 9]]\n",
            "\n",
            " [[9 9 9 9 9]\n",
            "  [9 9 9 9 9]\n",
            "  [9 9 9 9 9]\n",
            "  [9 9 9 9 9]]], shape=(3, 4, 5), dtype=int32)\n",
            "3\n",
            "tf.Tensor(\n",
            "[[[[9]\n",
            "   [9]\n",
            "   [9]\n",
            "   [9]\n",
            "   [9]]\n",
            "\n",
            "  [[9]\n",
            "   [9]\n",
            "   [9]\n",
            "   [9]\n",
            "   [9]]]], shape=(1, 2, 5, 1), dtype=int32)\n",
            "4\n"
          ]
        }
      ]
    },
    {
      "cell_type": "code",
      "source": [
        "ones_tensor = tf.ones(\n",
        "    [2,5,3],\n",
        "    dtype=tf.dtypes.float32,\n",
        "    name=None\n",
        ")\n",
        "print(ones_tensor)\n",
        "print(ones_tensor.ndim)\n",
        "ones_tensor2 = tf.ones(  # creates a tensor of all ones that has the same shape as the input\n",
        "    [4,2,2],\n",
        "    dtype=tf.dtypes.float32,\n",
        "    name=None\n",
        ")\n",
        "print(ones_tensor2)\n",
        "print(ones_tensor2.ndim)"
      ],
      "metadata": {
        "colab": {
          "base_uri": "https://localhost:8080/"
        },
        "id": "L7LfgHUvaEBN",
        "outputId": "68674871-5034-447d-f34c-3a8e668d5168"
      },
      "execution_count": 18,
      "outputs": [
        {
          "output_type": "stream",
          "name": "stdout",
          "text": [
            "tf.Tensor(\n",
            "[[[1. 1. 1.]\n",
            "  [1. 1. 1.]\n",
            "  [1. 1. 1.]\n",
            "  [1. 1. 1.]\n",
            "  [1. 1. 1.]]\n",
            "\n",
            " [[1. 1. 1.]\n",
            "  [1. 1. 1.]\n",
            "  [1. 1. 1.]\n",
            "  [1. 1. 1.]\n",
            "  [1. 1. 1.]]], shape=(2, 5, 3), dtype=float32)\n",
            "3\n",
            "tf.Tensor(\n",
            "[[[1. 1.]\n",
            "  [1. 1.]]\n",
            "\n",
            " [[1. 1.]\n",
            "  [1. 1.]]\n",
            "\n",
            " [[1. 1.]\n",
            "  [1. 1.]]\n",
            "\n",
            " [[1. 1.]\n",
            "  [1. 1.]]], shape=(4, 2, 2), dtype=float32)\n",
            "3\n"
          ]
        }
      ]
    },
    {
      "cell_type": "code",
      "source": [
        "ones_like_tensor = tf.ones_like(  # creates a tensor of all ones that has the same shape as the input\n",
        "    fill_tensor,\n",
        "    dtype=None,\n",
        "    name=None\n",
        ")\n",
        "print(ones_like_tensor)"
      ],
      "metadata": {
        "colab": {
          "base_uri": "https://localhost:8080/"
        },
        "id": "I1ANsdTEaURo",
        "outputId": "c5c40f95-b55b-4e04-d170-4794b8047671"
      },
      "execution_count": 19,
      "outputs": [
        {
          "output_type": "stream",
          "name": "stdout",
          "text": [
            "tf.Tensor(\n",
            "[[[1 1 1 1 1]\n",
            "  [1 1 1 1 1]\n",
            "  [1 1 1 1 1]\n",
            "  [1 1 1 1 1]]\n",
            "\n",
            " [[1 1 1 1 1]\n",
            "  [1 1 1 1 1]\n",
            "  [1 1 1 1 1]\n",
            "  [1 1 1 1 1]]\n",
            "\n",
            " [[1 1 1 1 1]\n",
            "  [1 1 1 1 1]\n",
            "  [1 1 1 1 1]\n",
            "  [1 1 1 1 1]]], shape=(3, 4, 5), dtype=int32)\n"
          ]
        }
      ]
    },
    {
      "cell_type": "code",
      "source": [
        "zeros_tensor = tf.zeros(\n",
        "    [2,5,3],\n",
        "    dtype=tf.dtypes.float32,\n",
        "    name=None\n",
        ")\n",
        "print(zeros_tensor)"
      ],
      "metadata": {
        "colab": {
          "base_uri": "https://localhost:8080/"
        },
        "id": "2oR4gBTOahXi",
        "outputId": "7ccdff2b-ae1e-4fd9-a379-96b803686792"
      },
      "execution_count": 20,
      "outputs": [
        {
          "output_type": "stream",
          "name": "stdout",
          "text": [
            "tf.Tensor(\n",
            "[[[0. 0. 0.]\n",
            "  [0. 0. 0.]\n",
            "  [0. 0. 0.]\n",
            "  [0. 0. 0.]\n",
            "  [0. 0. 0.]]\n",
            "\n",
            " [[0. 0. 0.]\n",
            "  [0. 0. 0.]\n",
            "  [0. 0. 0.]\n",
            "  [0. 0. 0.]\n",
            "  [0. 0. 0.]]], shape=(2, 5, 3), dtype=float32)\n"
          ]
        }
      ]
    },
    {
      "cell_type": "code",
      "source": [
        "shape_tensor = tf.shape(fill_tensor,)  # returns a tensor containing the shape of the input tensor\n",
        "print(shape_tensor)"
      ],
      "metadata": {
        "colab": {
          "base_uri": "https://localhost:8080/"
        },
        "id": "PZKj9g9XbHQI",
        "outputId": "bd830e76-c098-4664-ea06-0046b53a0c58"
      },
      "execution_count": 21,
      "outputs": [
        {
          "output_type": "stream",
          "name": "stdout",
          "text": [
            "tf.Tensor([3 4 5], shape=(3,), dtype=int32)\n"
          ]
        }
      ]
    },
    {
      "cell_type": "code",
      "source": [
        "rank_tensor = tf.rank(fill_tensor)  # returns the rank of the input tensor\n",
        "print(rank_tensor)"
      ],
      "metadata": {
        "colab": {
          "base_uri": "https://localhost:8080/"
        },
        "id": "xaS5z-RkbuqN",
        "outputId": "ef3ca026-4168-4c55-f6a9-961233b7608c"
      },
      "execution_count": 22,
      "outputs": [
        {
          "output_type": "stream",
          "name": "stdout",
          "text": [
            "tf.Tensor(3, shape=(), dtype=int32)\n"
          ]
        }
      ]
    },
    {
      "cell_type": "code",
      "source": [
        "size_tensor = tf.size(fill_tensor, out_type=tf.float32)  # returns the size of the input tensor (3x4x5)\n",
        "print(size_tensor)"
      ],
      "metadata": {
        "colab": {
          "base_uri": "https://localhost:8080/"
        },
        "id": "CSmL1ZCmbZCC",
        "outputId": "97325d3f-66a8-405f-be38-1e7a5306e1bb"
      },
      "execution_count": 23,
      "outputs": [
        {
          "output_type": "stream",
          "name": "stdout",
          "text": [
            "tf.Tensor(60.0, shape=(), dtype=float32)\n"
          ]
        }
      ]
    },
    {
      "cell_type": "code",
      "source": [
        "random_tensor = tf.random.normal(\n",
        "    [3,2],\n",
        "    mean=100.0,\n",
        "    stddev=1.0,\n",
        "    dtype=tf.dtypes.float32,\n",
        "    seed=None,\n",
        "    name=None\n",
        ")\n",
        "print(random_tensor)"
      ],
      "metadata": {
        "colab": {
          "base_uri": "https://localhost:8080/"
        },
        "id": "VA3p-Sidb8Cg",
        "outputId": "c58e59d4-c3b2-4476-c351-d2513d265db8"
      },
      "execution_count": 24,
      "outputs": [
        {
          "output_type": "stream",
          "name": "stdout",
          "text": [
            "tf.Tensor(\n",
            "[[ 98.73674   97.939575]\n",
            " [100.77563  100.85425 ]\n",
            " [ 99.82609  100.04029 ]], shape=(3, 2), dtype=float32)\n"
          ]
        }
      ]
    },
    {
      "cell_type": "code",
      "source": [
        "uniform_random_tensor = tf.random.uniform(\n",
        "    [3,2],\n",
        "    minval=0,\n",
        "    maxval=100,  # default 1\n",
        "    dtype=tf.dtypes.float32,\n",
        "    seed=None,  # combination with tf.random.set_seed\n",
        "    # create a reproducible sequence of tensors across multiple calls\n",
        "    name=None\n",
        ")\n",
        "print(uniform_random_tensor)"
      ],
      "metadata": {
        "id": "-kQhxuh0ciMy",
        "outputId": "926d2546-83ba-4255-ebf2-ff41f9e7fd4b",
        "colab": {
          "base_uri": "https://localhost:8080/"
        }
      },
      "execution_count": 25,
      "outputs": [
        {
          "output_type": "stream",
          "name": "stdout",
          "text": [
            "tf.Tensor(\n",
            "[[26.397097 25.085186]\n",
            " [78.0918   41.409016]\n",
            " [46.776318 58.41392 ]], shape=(3, 2), dtype=float32)\n"
          ]
        }
      ]
    },
    {
      "cell_type": "code",
      "source": [
        "tf.random.set_seed(5)\n",
        "print(tf.random.uniform(shape=[3,], maxval=5, dtype=tf.int32, seed=10))\n",
        "print(tf.random.uniform(shape=[3,], maxval=5, dtype=tf.int32, seed=10))\n",
        "print(tf.random.uniform(shape=[3,], maxval=5, dtype=tf.int32, seed=10))\n",
        "print(tf.random.uniform(shape=[3,], maxval=5, dtype=tf.int32, seed=10))"
      ],
      "metadata": {
        "id": "iDTi4CxXqdk8",
        "outputId": "935e2ccd-ad84-4bb8-8acc-5ce843afe6f9",
        "colab": {
          "base_uri": "https://localhost:8080/"
        }
      },
      "execution_count": 26,
      "outputs": [
        {
          "output_type": "stream",
          "name": "stdout",
          "text": [
            "tf.Tensor([4 3 1], shape=(3,), dtype=int32)\n",
            "tf.Tensor([4 3 2], shape=(3,), dtype=int32)\n",
            "tf.Tensor([1 1 1], shape=(3,), dtype=int32)\n",
            "tf.Tensor([1 3 3], shape=(3,), dtype=int32)\n"
          ]
        }
      ]
    },
    {
      "cell_type": "code",
      "source": [
        "tf.random.set_seed(5)\n",
        "print(tf.random.uniform(shape=[3,], maxval=5, dtype=tf.int32, seed=100))\n",
        "print(tf.random.uniform(shape=[3,], maxval=5, dtype=tf.int32, seed=10))\n",
        "print(tf.random.uniform(shape=[3,], maxval=5, dtype=tf.int32, seed=10))\n",
        "print(tf.random.uniform(shape=[3,], maxval=5, dtype=tf.int32, seed=10))"
      ],
      "metadata": {
        "id": "-YeWOKFutoC3",
        "outputId": "9842cfb0-8f68-4a48-cdf7-06dd9c877a6c",
        "colab": {
          "base_uri": "https://localhost:8080/"
        }
      },
      "execution_count": 27,
      "outputs": [
        {
          "output_type": "stream",
          "name": "stdout",
          "text": [
            "tf.Tensor([0 0 3], shape=(3,), dtype=int32)\n",
            "tf.Tensor([4 3 1], shape=(3,), dtype=int32)\n",
            "tf.Tensor([4 3 2], shape=(3,), dtype=int32)\n",
            "tf.Tensor([1 1 1], shape=(3,), dtype=int32)\n"
          ]
        }
      ]
    },
    {
      "cell_type": "markdown",
      "source": [
        "seed argument produces a deterministic sequence of tensors across multiple calls. To repeat that sequence, use tf.random.set_seed:\n",
        "\n",
        "> tf.random.set_seed(5)\n",
        "\n",
        "> tf.random.uniform(shape=[], maxval=3, dtype=tf.int32, seed=10)\n",
        "<tf.Tensor: shape=(), dtype=int32, numpy=2>\n",
        "\n",
        "Without tf.random.set_seed but with a seed argument is specified, small changes to function graphs or previously executed operations will change the returned value. See tf.random.set_seed for details."
      ],
      "metadata": {
        "id": "pEPLxTE7o79r"
      }
    },
    {
      "cell_type": "code",
      "source": [
        "tensor_indexed = tf.constant([2,4,5,6,66,7])\n",
        "print(tensor_indexed)\n",
        "print(tensor_indexed[0:4])\n",
        "print(tensor_indexed[0:5:2])\n",
        "print(tensor_indexed[::-1])\n",
        "print(tensor_indexed[1:5])\n",
        "print(tensor_indexed[3:])\n",
        "print(tensor_indexed[:3])\n"
      ],
      "metadata": {
        "id": "AKkAYBDluMXM",
        "outputId": "9e087ae4-aef6-4701-d995-c34d78ddea73",
        "colab": {
          "base_uri": "https://localhost:8080/"
        }
      },
      "execution_count": 35,
      "outputs": [
        {
          "output_type": "stream",
          "name": "stdout",
          "text": [
            "tf.Tensor([ 2  4  5  6 66  7], shape=(6,), dtype=int32)\n",
            "tf.Tensor([2 4 5 6], shape=(4,), dtype=int32)\n",
            "tf.Tensor([ 2  5 66], shape=(3,), dtype=int32)\n",
            "tf.Tensor([ 7 66  6  5  4  2], shape=(6,), dtype=int32)\n",
            "tf.Tensor([ 4  5  6 66], shape=(4,), dtype=int32)\n",
            "tf.Tensor([ 6 66  7], shape=(3,), dtype=int32)\n",
            "tf.Tensor([2 4 5], shape=(3,), dtype=int32)\n"
          ]
        }
      ]
    },
    {
      "cell_type": "code",
      "source": [
        " tf.range(2,5)"
      ],
      "metadata": {
        "id": "Ch8rzGlkGmbd",
        "outputId": "6f25f6bd-72cf-4855-b2b8-6cd1caa33508",
        "colab": {
          "base_uri": "https://localhost:8080/"
        }
      },
      "execution_count": 32,
      "outputs": [
        {
          "output_type": "execute_result",
          "data": {
            "text/plain": [
              "<tf.Tensor: shape=(3,), dtype=int32, numpy=array([2, 3, 4], dtype=int32)>"
            ]
          },
          "metadata": {},
          "execution_count": 32
        }
      ]
    },
    {
      "cell_type": "code",
      "source": [
        "tensor_two_d = tf.constant([\n",
        "    [1,2,0],\n",
        "    [3,5,-1],\n",
        "    [2,5,6],\n",
        "    [2,3,8],\n",
        "])\n",
        "print(tensor_two_d[0:3,0:2]) # rows,columns)\n",
        "print(tensor_two_d[0:3,0:3]) # rows,columns)\n",
        "print(tensor_two_d[1:4,0:2]) # rows,columns)\n",
        "print(tensor_two_d[0:3,:]) # first three rows, these row's columns\n",
        "print(tensor_two_d[2,:]) # rows,columns)\n",
        "print(tensor_two_d[2,2]) # second row, secondcolumn\n",
        "print(tensor_two_d[3,1:]) # 3rd row, 1 to all columns\n",
        "print(tensor_two_d[:,0]) # 0th column"
      ],
      "metadata": {
        "id": "-ZWXfeF3pvKZ",
        "outputId": "6d1f6340-0ea2-4104-980f-35d3033cf920",
        "colab": {
          "base_uri": "https://localhost:8080/"
        }
      },
      "execution_count": 46,
      "outputs": [
        {
          "output_type": "stream",
          "name": "stdout",
          "text": [
            "tf.Tensor(\n",
            "[[1 2]\n",
            " [3 5]\n",
            " [2 5]], shape=(3, 2), dtype=int32)\n",
            "tf.Tensor(\n",
            "[[ 1  2  0]\n",
            " [ 3  5 -1]\n",
            " [ 2  5  6]], shape=(3, 3), dtype=int32)\n",
            "tf.Tensor(\n",
            "[[3 5]\n",
            " [2 5]\n",
            " [2 3]], shape=(3, 2), dtype=int32)\n",
            "tf.Tensor(\n",
            "[[ 1  2  0]\n",
            " [ 3  5 -1]\n",
            " [ 2  5  6]], shape=(3, 3), dtype=int32)\n",
            "tf.Tensor([2 5 6], shape=(3,), dtype=int32)\n",
            "tf.Tensor(6, shape=(), dtype=int32)\n",
            "tf.Tensor([3 8], shape=(2,), dtype=int32)\n",
            "tf.Tensor([1 3 2 2], shape=(4,), dtype=int32)\n"
          ]
        }
      ]
    },
    {
      "cell_type": "code",
      "source": [
        "tensor_three_d = tf.constant([\n",
        "    [[1,2,0],\n",
        "    [3,5,-1]],\n",
        "\n",
        "    [[10,2,0],\n",
        "    [1,0,2]],\n",
        "\n",
        "    [[5,8,0],\n",
        "     [2,7,0]],\n",
        "\n",
        "    [[2,1,9],\n",
        "     [4,-3,32]]])\n",
        "print(tensor_three_d[0,:,:]) # first dimension all rows and columns\n",
        "print(tensor_three_d[0,...,:]) # first dimension all rows and columns\n",
        "print(tensor_three_d[0,0,:]) # first dimension 0th row and all columns\n",
        "print(tensor_three_d[0,1,:]) # first dimension 1st row and all columns\n",
        "print(tensor_three_d[1,:,:]) # second dimension all rows and columns\n",
        "print(tensor_three_d[0,:,-1]) # first dimension all rows and last column\n",
        "print(tensor_three_d[0:2,:,-1]) # first-third dimension all rows and last columns"
      ],
      "metadata": {
        "id": "yjS_xVPnIujV",
        "outputId": "33fb64c8-9948-4e86-c05f-da03a26d4286",
        "colab": {
          "base_uri": "https://localhost:8080/"
        }
      },
      "execution_count": 57,
      "outputs": [
        {
          "output_type": "stream",
          "name": "stdout",
          "text": [
            "tf.Tensor(\n",
            "[[ 1  2  0]\n",
            " [ 3  5 -1]], shape=(2, 3), dtype=int32)\n",
            "tf.Tensor(\n",
            "[[ 1  2  0]\n",
            " [ 3  5 -1]], shape=(2, 3), dtype=int32)\n",
            "tf.Tensor([1 2 0], shape=(3,), dtype=int32)\n",
            "tf.Tensor([ 3  5 -1], shape=(3,), dtype=int32)\n",
            "tf.Tensor(\n",
            "[[10  2  0]\n",
            " [ 1  0  2]], shape=(2, 3), dtype=int32)\n",
            "tf.Tensor([ 0 -1], shape=(2,), dtype=int32)\n",
            "tf.Tensor(\n",
            "[[ 0 -1]\n",
            " [ 0  2]], shape=(2, 2), dtype=int32)\n"
          ]
        }
      ]
    },
    {
      "cell_type": "code",
      "source": [],
      "metadata": {
        "id": "FOPbZgS8Q05Q"
      },
      "execution_count": null,
      "outputs": []
    }
  ]
}